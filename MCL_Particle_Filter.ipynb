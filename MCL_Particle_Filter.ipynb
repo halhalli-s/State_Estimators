{
  "cells": [
    {
      "cell_type": "code",
      "execution_count": 4,
      "metadata": {
        "colab": {
          "base_uri": "https://localhost:8080/"
        },
        "id": "W1a17fpJ9ONw",
        "outputId": "35b518fe-b8ac-4aef-e56f-5ebebcda9e38"
      },
      "outputs": [
        {
          "name": "stdout",
          "output_type": "stream",
          "text": [
            "Collecting git+https://gitlab.com/neu-autonomy/gym-neu-racing.git\n",
            "  Cloning https://gitlab.com/neu-autonomy/gym-neu-racing.git to /tmp/pip-req-build-ixjpbtgx\n",
            "  Running command git clone --filter=blob:none --quiet https://gitlab.com/neu-autonomy/gym-neu-racing.git /tmp/pip-req-build-ixjpbtgx\n",
            "  Resolved https://gitlab.com/neu-autonomy/gym-neu-racing.git to commit b8aed82115801ab8818631013eb8672becd56ead\n",
            "  Preparing metadata (setup.py) ... \u001b[?25l\u001b[?25hdone\n",
            "Requirement already satisfied: gymnasium>=0.26.1 in /usr/local/lib/python3.11/dist-packages (from gym_neu_racing==0.0.1) (1.0.0)\n",
            "Requirement already satisfied: numpy in /usr/local/lib/python3.11/dist-packages (from gym_neu_racing==0.0.1) (1.26.4)\n",
            "Requirement already satisfied: mypy in /usr/local/lib/python3.11/dist-packages (from gym_neu_racing==0.0.1) (1.15.0)\n",
            "Requirement already satisfied: matplotlib in /usr/local/lib/python3.11/dist-packages (from gym_neu_racing==0.0.1) (3.10.0)\n",
            "Requirement already satisfied: scipy in /usr/local/lib/python3.11/dist-packages (from gym_neu_racing==0.0.1) (1.13.1)\n",
            "Requirement already satisfied: cloudpickle>=1.2.0 in /usr/local/lib/python3.11/dist-packages (from gymnasium>=0.26.1->gym_neu_racing==0.0.1) (3.1.1)\n",
            "Requirement already satisfied: typing-extensions>=4.3.0 in /usr/local/lib/python3.11/dist-packages (from gymnasium>=0.26.1->gym_neu_racing==0.0.1) (4.12.2)\n",
            "Requirement already satisfied: farama-notifications>=0.0.1 in /usr/local/lib/python3.11/dist-packages (from gymnasium>=0.26.1->gym_neu_racing==0.0.1) (0.0.4)\n",
            "Requirement already satisfied: contourpy>=1.0.1 in /usr/local/lib/python3.11/dist-packages (from matplotlib->gym_neu_racing==0.0.1) (1.3.1)\n",
            "Requirement already satisfied: cycler>=0.10 in /usr/local/lib/python3.11/dist-packages (from matplotlib->gym_neu_racing==0.0.1) (0.12.1)\n",
            "Requirement already satisfied: fonttools>=4.22.0 in /usr/local/lib/python3.11/dist-packages (from matplotlib->gym_neu_racing==0.0.1) (4.56.0)\n",
            "Requirement already satisfied: kiwisolver>=1.3.1 in /usr/local/lib/python3.11/dist-packages (from matplotlib->gym_neu_racing==0.0.1) (1.4.8)\n",
            "Requirement already satisfied: packaging>=20.0 in /usr/local/lib/python3.11/dist-packages (from matplotlib->gym_neu_racing==0.0.1) (24.2)\n",
            "Requirement already satisfied: pillow>=8 in /usr/local/lib/python3.11/dist-packages (from matplotlib->gym_neu_racing==0.0.1) (11.1.0)\n",
            "Requirement already satisfied: pyparsing>=2.3.1 in /usr/local/lib/python3.11/dist-packages (from matplotlib->gym_neu_racing==0.0.1) (3.2.1)\n",
            "Requirement already satisfied: python-dateutil>=2.7 in /usr/local/lib/python3.11/dist-packages (from matplotlib->gym_neu_racing==0.0.1) (2.8.2)\n",
            "Requirement already satisfied: mypy_extensions>=1.0.0 in /usr/local/lib/python3.11/dist-packages (from mypy->gym_neu_racing==0.0.1) (1.0.0)\n",
            "Requirement already satisfied: six>=1.5 in /usr/local/lib/python3.11/dist-packages (from python-dateutil>=2.7->matplotlib->gym_neu_racing==0.0.1) (1.17.0)\n"
          ]
        }
      ],
      "source": [
        "!pip install git+https://gitlab.com/neu-autonomy/gym-neu-racing.git"
      ]
    },
    {
      "cell_type": "markdown",
      "metadata": {
        "id": "U528T-DbjK3L"
      },
      "source": [
        "Now that the simulator and its dependencies have been installed, you can import the modules you'll need for this assignment:"
      ]
    },
    {
      "cell_type": "code",
      "execution_count": 37,
      "metadata": {
        "colab": {
          "base_uri": "https://localhost:8080/",
          "height": 349
        },
        "id": "ylskOzCW-VEt",
        "outputId": "24f112e3-3747-4fcd-eccb-142667561460"
      },
      "outputs": [
        {
          "ename": "ModuleNotFoundError",
          "evalue": "No module named 'bresenham'",
          "output_type": "error",
          "traceback": [
            "\u001b[0;31m---------------------------------------------------------------------------\u001b[0m",
            "\u001b[0;31mModuleNotFoundError\u001b[0m                       Traceback (most recent call last)",
            "\u001b[0;32m<ipython-input-37-8323d01e4f55>\u001b[0m in \u001b[0;36m<cell line: 0>\u001b[0;34m()\u001b[0m\n\u001b[1;32m     16\u001b[0m \u001b[0;32mfrom\u001b[0m \u001b[0mscipy\u001b[0m\u001b[0;34m.\u001b[0m\u001b[0mlinalg\u001b[0m \u001b[0;32mimport\u001b[0m \u001b[0mexpm\u001b[0m\u001b[0;34m\u001b[0m\u001b[0;34m\u001b[0m\u001b[0m\n\u001b[1;32m     17\u001b[0m \u001b[0;32mimport\u001b[0m \u001b[0mscipy\u001b[0m\u001b[0;34m.\u001b[0m\u001b[0mlinalg\u001b[0m\u001b[0;34m\u001b[0m\u001b[0;34m\u001b[0m\u001b[0m\n\u001b[0;32m---> 18\u001b[0;31m \u001b[0;32mfrom\u001b[0m \u001b[0mbresenham\u001b[0m \u001b[0;32mimport\u001b[0m \u001b[0mbresenham\u001b[0m \u001b[0;32mas\u001b[0m \u001b[0mbresenham_line\u001b[0m\u001b[0;34m\u001b[0m\u001b[0;34m\u001b[0m\u001b[0m\n\u001b[0m",
            "\u001b[0;31mModuleNotFoundError\u001b[0m: No module named 'bresenham'",
            "",
            "\u001b[0;31m---------------------------------------------------------------------------\u001b[0;32m\nNOTE: If your import is failing due to a missing package, you can\nmanually install dependencies using either !pip or !apt.\n\nTo view examples of installing some common dependencies, click the\n\"Open Examples\" button below.\n\u001b[0;31m---------------------------------------------------------------------------\u001b[0m\n"
          ]
        }
      ],
      "source": [
        "import gymnasium\n",
        "import numpy as np\n",
        "import gym_neu_racing\n",
        "from gymnasium import spaces\n",
        "from gym_neu_racing.envs.wrappers import StateFeedbackWrapper, MappingWrapper\n",
        "import matplotlib.pyplot as plt\n",
        "from typing import Callable\n",
        "import matplotlib.cm as cmx\n",
        "import matplotlib.colors as colors\n",
        "from gym_neu_racing import motion_models\n",
        "from gym_neu_racing import sensor_models\n",
        "from gym_neu_racing.sensor_models.sensor_model import SensorModel\n",
        "from gym_neu_racing.envs.map import Map\n",
        "from skimage.draw import line\n",
        "from gym_neu_racing.sensor_models import Lidar2D\n",
        "from scipy.linalg import expm\n",
        "import scipy.linalg\n"
      ]
    },
    {
      "cell_type": "code",
      "execution_count": null,
      "metadata": {
        "id": "-lrtC1ObqZFJ"
      },
      "outputs": [],
      "source": [
        "class ParticleFilter:\n",
        "    def __init__(\n",
        "        self,\n",
        "        map=None,\n",
        "        num_particles=5,\n",
        "        sigma_l=0.05,\n",
        "        sigma_r=0.05,\n",
        "        sigma_p=0.10,\n",
        "        r=0.25,\n",
        "        w=0.5,\n",
        "        dt=0.1,\n",
        "    ):\n",
        "        self.num_particles = num_particles\n",
        "        self.sigma_l = sigma_l\n",
        "        self.sigma_r = sigma_r\n",
        "        self.sigma_p = sigma_p\n",
        "        self.r = r\n",
        "        self.w = w\n",
        "        self.dt = dt\n",
        "        self.map = map\n",
        "        self.particles = np.tile(np.eye(3), (num_particles, 1, 1))\n",
        "\n",
        "        self.sigma_inv = np.linalg.inv(\n",
        "            np.diag([self.sigma_p**2, self.sigma_p**2])\n",
        "        )\n",
        "\n",
        "    def get_pos_mean_and_cov(self) -> tuple[np.ndarray, np.ndarray]:\n",
        "        \"\"\"Extract mean/cov of position over all particles.\"\"\"\n",
        "        positions = self.particles[:, 0:2, 2]\n",
        "        pos_mean = np.mean(positions, axis=0)\n",
        "        pos_cov = np.cov(positions[:, 0], positions[:, 1])\n",
        "        return pos_mean, pos_cov\n",
        "\n",
        "    def step(self, obs: dict) -> np.ndarray:\n",
        "        propagated_particles = self.propagate(obs[\"wheel_speeds\"])\n",
        "        updated_particles = self.update(propagated_particles)\n",
        "        return updated_particles\n",
        "\n",
        "    def propagate(self, wheel_speeds):\n",
        "        phi_l, phi_r = np.array(wheel_speeds)\n",
        "        phi_l = phi_l + np.random.normal(0, self.sigma_l)\n",
        "        phi_r = phi_r + np.random.normal(0, self.sigma_r)\n",
        "\n",
        "        vel = np.array([[0 , -self.r/self.w*(phi_r - phi_l), self.r/2*(phi_r + phi_l)],\n",
        "                        [self.r/self.w*(phi_r - phi_l), 0,0],\n",
        "                        [0,0,0]])\n",
        "\n",
        "        for i in range(self.num_particles):\n",
        "            exp = scipy.linalg.expm(vel*self.dt)\n",
        "            self.particles[i] = self.particles[i]@exp\n",
        "\n",
        "        return self.particles.copy()\n",
        "\n",
        "    def update(self, observation) -> np.ndarray:\n",
        "        \"\"\"Re-sample particles based on an incoming measurement.\"\"\"\n",
        "        x,y = observation\n",
        "        positions = self.particles[:, 0:2, 2]\n",
        "        weights = (np.exp(-0.5 * np.sum((positions - observation) ** 2, axis=1) / self.sigma_p ** 2))/(2*np.pi*self.sigma_p**2)\n",
        "        weights /= np.sum(weights)\n",
        "        indices = np.random.choice(self.num_particles, size=self.num_particles, p=weights)\n",
        "        self.particles = self.particles[indices]\n",
        "\n",
        "        return self.particles.copy()"
      ]
    },
    {
      "cell_type": "code",
      "execution_count": null,
      "metadata": {
        "colab": {
          "base_uri": "https://localhost:8080/",
          "height": 916
        },
        "id": "5aJ-unZM-ZUq",
        "outputId": "b7617187-9d0a-491b-a25f-2474a818b3dc"
      },
      "outputs": [
        {
          "name": "stdout",
          "output_type": "stream",
          "text": [
            "Time: 0.0\n",
            "Position Estimate Mean:\n",
            " [1.38717415 1.43054901]\n",
            "Position Estimate Covariance:\n",
            " [[1.97412639e-31 0.00000000e+00]\n",
            " [0.00000000e+00 0.00000000e+00]]\n",
            "--\n",
            "Time: 5.0\n",
            "Position Estimate Mean:\n",
            " [0.29061723 3.2391696 ]\n",
            "Position Estimate Covariance:\n",
            " [[ 3.08457248e-33 -9.87063195e-32]\n",
            " [-9.87063195e-32  3.15860222e-30]]\n",
            "--\n",
            "Time: 10.0\n",
            "Position Estimate Mean:\n",
            " [-1.90207529  3.19099997]\n",
            "Position Estimate Covariance:\n",
            " [[ 1.97412639e-31 -3.94825278e-31]\n",
            " [-3.94825278e-31  7.89650556e-31]]\n",
            "--\n",
            "Time: 15.0\n",
            "Position Estimate Mean:\n",
            " [-2.68075147  1.26624012]\n",
            "Position Estimate Covariance:\n",
            " [[1.77671375e-30 0.00000000e+00]\n",
            " [0.00000000e+00 0.00000000e+00]]\n",
            "--\n"
          ]
        },
        {
          "data": {
            "image/png": "[encoded data removed]",
            "text/plain": [
              "<Figure size 640x480 with 1 Axes>"
            ]
          },
          "metadata": {},
          "output_type": "display_data"
        }
      ],
      "source": [
        "def run_dead_reckoning(env, robot_radius, robot_wheel_spacing, action, num_particles, dt):\n",
        "\n",
        "    # wheel speed sensor is only sensor that simulator should model here\n",
        "    env.unwrapped.sensor_models = {\n",
        "        \"wheel_speeds\": sensor_models.WheelSpeedSensor(\n",
        "            r=robot_radius, w=robot_wheel_spacing\n",
        "        ),\n",
        "    }\n",
        "    env.unwrapped.dt = dt\n",
        "\n",
        "    # set up environment\n",
        "    np.random.seed(0)\n",
        "    obs, _ = env.reset()\n",
        "    env.unwrapped.state = np.array([0.0, 0.0, 0.0])\n",
        "    env.unwrapped.action = action\n",
        "    obs = env.unwrapped._get_obs()  # pylint:disable=protected-access\n",
        "\n",
        "    localizer = ParticleFilter(\n",
        "        dt=dt,\n",
        "        num_particles=num_particles,\n",
        "        r=robot_radius,\n",
        "        w=robot_wheel_spacing,\n",
        "    )\n",
        "\n",
        "    for t in np.arange(start=0, stop=20., step=dt):\n",
        "\n",
        "        # propagate particles every dt seconds using wheel speed measurements\n",
        "        localizer.propagate(obs[\"wheel_speeds\"])\n",
        "        pos_mean, pos_cov = localizer.get_pos_mean_and_cov()\n",
        "        obs, _, _, _, _ = env.step(action)\n",
        "\n",
        "        # visualize positions of particles every dt seconds\n",
        "        particles = localizer.particles.copy()\n",
        "        plt.plot(particles[:, 0, 2], particles[:, 1, 2], \".\", label=\"PF Particles\")\n",
        "        plt.plot(pos_mean[0], pos_mean[1], \"x\", c=\"k\", label=\"PF Pose Estimate\")\n",
        "        plt.plot(\n",
        "          env.unwrapped.state[0], env.unwrapped.state[1], \"*\", c=\"pink\", label=\"True Position\"\n",
        "        )\n",
        "\n",
        "        print(f\"Time: {t}\")\n",
        "        print(f\"Position Estimate Mean:\\n {pos_mean}\")\n",
        "        print(f\"Position Estimate Covariance:\\n {pos_cov}\")\n",
        "        print(\"--\")\n",
        "\n",
        "    handles, labels = plt.gca().get_legend_handles_labels()\n",
        "    by_label = dict(zip(labels, handles))\n",
        "    plt.legend(by_label.values(), by_label.keys())\n",
        "    plt.show()\n",
        "\n",
        "env = gymnasium.make(\"gym_neu_racing/NEUEmptyWorld-v0\")\n",
        "robot_radius = 0.25\n",
        "robot_wheel_spacing = 0.5\n",
        "action = np.array([0.4375, 0.25])\n",
        "num_particles = 1000\n",
        "dt = 5.0\n",
        "run_dead_reckoning(env, robot_radius, robot_wheel_spacing, action, num_particles, dt)"
      ]
    },
    {
      "cell_type": "code",
      "execution_count": null,
      "metadata": {
        "colab": {
          "base_uri": "https://localhost:8080/",
          "height": 1000
        },
        "id": "RNcLPC5C_2fJ",
        "outputId": "1d94c27d-b8fe-4d16-f3c6-2951cb39b8de"
      },
      "outputs": [
        {
          "name": "stdout",
          "output_type": "stream",
          "text": [
            "kar bhai [[1.65800729 1.25953408]\n",
            " [1.65800729 1.25953408]\n",
            " [1.65800729 1.25953408]\n",
            " ...\n",
            " [1.65800729 1.25953408]\n",
            " [1.65800729 1.25953408]\n",
            " [1.65800729 1.25953408]]\n",
            "Time: 5.0\n",
            "Position Estimate Mean: [1.65800729 1.25953408]\n",
            "Position Estimate Covariance: [[ 4.93531597e-32 -9.87063195e-32]\n",
            " [-9.87063195e-32  1.97412639e-31]]\n",
            "--\n",
            "kar bhai [[0.98890589 3.20090126]\n",
            " [0.98890589 3.20090126]\n",
            " [0.98890589 3.20090126]\n",
            " ...\n",
            " [0.98890589 3.20090126]\n",
            " [0.98890589 3.20090126]\n",
            " [0.98890589 3.20090126]]\n",
            "Time: 10.0\n",
            "Position Estimate Mean: [0.98890589 3.20090126]\n",
            "Position Estimate Covariance: [[4.93531597e-32 0.00000000e+00]\n",
            " [0.00000000e+00 0.00000000e+00]]\n",
            "--\n",
            "kar bhai [[-1.06415527  3.16227225]\n",
            " [-1.06415527  3.16227225]\n",
            " [-1.06415527  3.16227225]\n",
            " ...\n",
            " [-1.06415527  3.16227225]\n",
            " [-1.06415527  3.16227225]\n",
            " [-1.06415527  3.16227225]]\n",
            "Time: 15.0\n",
            "Position Estimate Mean: [-1.06415527  3.16227225]\n",
            "Position Estimate Covariance: [[4.93531597e-32 0.00000000e+00]\n",
            " [0.00000000e+00 0.00000000e+00]]\n",
            "--\n",
            "kar bhai [[-1.69122365  1.22008583]\n",
            " [-1.69122365  1.22008583]\n",
            " [-1.69122365  1.22008583]\n",
            " ...\n",
            " [-1.69122365  1.22008583]\n",
            " [-1.69122365  1.22008583]\n",
            " [-1.69122365  1.22008583]]\n",
            "Time: 20.0\n",
            "Position Estimate Mean: [-1.69122365  1.22008583]\n",
            "Position Estimate Covariance: [[4.93531597e-32 4.93531597e-32]\n",
            " [4.93531597e-32 4.93531597e-32]]\n",
            "--\n"
          ]
        },
        {
          "data": {
            "image/png": "[encoded data removed]",
            "text/plain": [
              "<Figure size 640x480 with 1 Axes>"
            ]
          },
          "metadata": {},
          "output_type": "display_data"
        }
      ],
      "source": [
        "def run_particle_filter_with_gps(env, robot_radius, robot_wheel_spacing, action, num_particles, dt, gps_freq):\n",
        "\n",
        "    # simulator should model a wheel speed sensor and GPS at each timestep\n",
        "    env.unwrapped.sensor_models = {\n",
        "        \"wheel_speeds\": sensor_models.WheelSpeedSensor(\n",
        "            r=robot_radius, w=robot_wheel_spacing\n",
        "        ),\n",
        "        \"gps\": sensor_models.GPS(gps_variance=0.5**2),\n",
        "    }\n",
        "    env.unwrapped.dt = dt\n",
        "\n",
        "    # initialize the system at the origin\n",
        "    np.random.seed(0)\n",
        "    obs, _ = env.reset()\n",
        "    env.unwrapped.state = np.array([0.0, 0.0, 0.0])\n",
        "    env.unwrapped.action = action\n",
        "    obs = env.unwrapped._get_obs()  # pylint:disable=protected-access\n",
        "\n",
        "    localizer = ParticleFilter(\n",
        "        dt=dt,\n",
        "        num_particles=num_particles,\n",
        "        r=robot_radius,\n",
        "        w=robot_wheel_spacing,\n",
        "    )\n",
        "\n",
        "    for t in np.arange(start=0, stop=20.1, step=dt):\n",
        "        obs, _, _, _, _ = env.step(action)\n",
        "\n",
        "        # propagate the particles every dt seconds with the current wheel speeds\n",
        "        localizer.propagate(obs[\"wheel_speeds\"])\n",
        "\n",
        "        # update the particles every gps_freq seconds with the current GPS measurement\n",
        "        if (t % gps_freq < 0.01 or t % gps_freq > gps_freq - 0.01) and t > 0:\n",
        "            localizer.update(obs[\"gps\"])\n",
        "            plt.plot(obs[\"gps\"][0], obs[\"gps\"][1], \"^\", c=\"cyan\", label=\"GPS Measurements\")\n",
        "            plt.plot(\n",
        "                env.unwrapped.state[0], env.unwrapped.state[1], \"*\", c=\"pink\", label=\"True Position\"\n",
        "            )\n",
        "\n",
        "            particles = localizer.particles\n",
        "            pos_mean, pos_cov = localizer.get_pos_mean_and_cov()\n",
        "            obs, _, _, _, _ = env.step(action)\n",
        "\n",
        "            plt.plot(\n",
        "                particles[:, 0, 2],\n",
        "                particles[:, 1, 2],\n",
        "                \".\",\n",
        "                zorder=0,\n",
        "                label=\"PF Particles\"\n",
        "            )\n",
        "            plt.plot(pos_mean[0], pos_mean[1], \"x\", c=\"k\", label=\"PF Mean Estimate\")\n",
        "\n",
        "            print(f\"Time: {t}\")\n",
        "            print(f\"Position Estimate Mean: {pos_mean}\")\n",
        "            print(f\"Position Estimate Covariance: {pos_cov}\")\n",
        "            print(\"--\")\n",
        "\n",
        "    handles, labels = plt.gca().get_legend_handles_labels()\n",
        "    by_label = dict(zip(labels, handles))\n",
        "    plt.legend(by_label.values(), by_label.keys())\n",
        "    plt.show()\n",
        "\n",
        "env = gymnasium.make(\"gym_neu_racing/NEUEmptyWorld-v0\")\n",
        "robot_radius = 0.25\n",
        "robot_wheel_spacing = 0.5\n",
        "action = np.array([0.4375, 0.25])\n",
        "num_particles = 1000\n",
        "dt = 0.1\n",
        "gps_freq = 5. # seconds between gps measurements\n",
        "run_particle_filter_with_gps(env, robot_radius, robot_wheel_spacing, action, num_particles, dt, gps_freq)"
      ]
    },
    {
      "cell_type": "code",
      "execution_count": null,
      "metadata": {
        "id": "8qbQYPAEDujy"
      },
      "outputs": [],
      "source": [
        "class MCL(ParticleFilter):\n",
        "    def __init__(\n",
        "        self,\n",
        "        map=None,\n",
        "        num_particles=1000,\n",
        "        sigma_l=0.05,\n",
        "        sigma_r=0.05,\n",
        "        sigma_lidar=1.4,\n",
        "        r=0.25,\n",
        "        w=0.5,\n",
        "        dt=1.0,\n",
        "    ):\n",
        "        print(\n",
        "            f\"Instantiating MCL with: {num_particles=}, {sigma_l=}, {sigma_r=}, {sigma_lidar=}, {r=}, {w=}, {dt=}.\"\n",
        "        )\n",
        "        super().__init__(\n",
        "            num_particles=num_particles,\n",
        "            sigma_l=sigma_l,\n",
        "            sigma_r=sigma_r,\n",
        "            r=r,\n",
        "            w=w,\n",
        "            dt=dt,\n",
        "        )\n",
        "        self.sigma_lidar = sigma_lidar\n",
        "        self.map = map\n",
        "\n",
        "        self.initialize_particles()\n",
        "\n",
        "        self.lidar_model = Lidar2D(map)\n",
        "\n",
        "    def initialize_particles(self) -> None:\n",
        "\n",
        "        # for example...\n",
        "        # - uniformly randomly sample (x,y) within [[-self.map.x_width / 2, -self.map.y_width / 2], [self.map.x_width / 2, self.map.y_width / 2]]\n",
        "        # - transform (x,y) point into map indices using self.map.world_coordinates_to_map_indices\n",
        "        # - check if that cell is free using self.map.static_map[...]\n",
        "        # - if free, randomly sample a heading angle theta\n",
        "        # - populate the SE(2) matrix corresponding to that (x, y, theta)\n",
        "        # - add that SE(2) matrix to self.particles\n",
        "        # --> self.particles should be a np array of shape (num_particles, 3, 3) after this function is done\n",
        "\n",
        "        self.particles = np.zeros((self.num_particles, 3, 3))\n",
        "        count = 0\n",
        "\n",
        "        while count < self.num_particles:\n",
        "           x = np.random.uniform(-self.map.x_width / 2, self.map.x_width / 2)\n",
        "           y = np.random.uniform(-self.map.y_width / 2, self.map.y_width / 2)\n",
        "           theta = np.random.uniform(-np.pi, np.pi)\n",
        "\n",
        "           posn = np.array([x,y])\n",
        "\n",
        "           map_indices = self.map.world_coordinates_to_map_indices(posn)\n",
        "           x_ind, y_ind = map_indices[0].T\n",
        "          #  print(\"have a look\", map_indices[0].T)\n",
        "\n",
        "           if self.map.static_map[x_ind, y_ind] == 0:\n",
        "            self.particles[count] = np.array([\n",
        "                [np.cos(theta), -np.sin(theta), x],\n",
        "                [np.sin(theta), np.cos(theta), y],\n",
        "                [0, 0, 1]\n",
        "            ])\n",
        "            count += 1\n",
        "\n",
        "\n",
        "    def update(self, observation) -> np.ndarray:\n",
        "        weights = np.zeros(self.num_particles)\n",
        "\n",
        "        for i in range(self.num_particles):\n",
        "            x, y = self.particles[i, 0:2, 2]\n",
        "\n",
        "            theta = np.arctan2(self.particles[i, 1, 0], self.particles[i, 0, 0])\n",
        "            ideal_scan = self.lidar_model.step([x, y, theta], None)\n",
        "            # print(\"obs scan\", observation)\n",
        "            # print(\"see this\",ideal_scan, type(ideal_scan))\n",
        "\n",
        "            actual_scan = observation[\"ranges\"]\n",
        "            diff = (np.exp(-0.5 * np.sum((actual_scan - ideal_scan[\"ranges\"]) ** 2) / self.sigma_lidar ** 2))/(2*np.pi*self.sigma_lidar**2)\n",
        "            weights[i] = np.prod(diff)\n",
        "            # print(\"weights\", weights[i])\n",
        "\n",
        "        weights /= np.sum(weights)\n",
        "        indices = np.random.choice(self.num_particles, size=self.num_particles, p=weights)\n",
        "        self.particles = self.particles[indices]\n",
        "\n",
        "        return self.particles.copy()"
      ]
    },
    {
      "cell_type": "code",
      "execution_count": null,
      "metadata": {
        "colab": {
          "base_uri": "https://localhost:8080/",
          "height": 1000
        },
        "id": "32Xk2BzgDw9T",
        "outputId": "c5e3fa3d-0f2e-45d3-b596-c8b57fc54d8f"
      },
      "outputs": [
        {
          "name": "stdout",
          "output_type": "stream",
          "text": [
            "Instantiating MCL with: num_particles=1000, sigma_l=0.5, sigma_r=0.5, sigma_lidar=1.4, r=0.25, w=0.5, dt=1.0.\n"
          ]
        },
        {
          "data": {
            "image/png": "[encoded data removed]",
            "text/plain": [
              "<Figure size 640x480 with 1 Axes>"
            ]
          },
          "metadata": {},
          "output_type": "display_data"
        },
        {
          "name": "stdout",
          "output_type": "stream",
          "text": [
            "lap completed!\n",
            "clockwise -> fwd lap completed\n"
          ]
        },
        {
          "data": {
            "image/png": "[encoded data removed]",
            "text/plain": [
              "<Figure size 640x480 with 1 Axes>"
            ]
          },
          "metadata": {},
          "output_type": "display_data"
        },
        {
          "data": {
            "image/png": "[encoded data removed]",
            "text/plain": [
              "<Figure size 640x480 with 1 Axes>"
            ]
          },
          "metadata": {},
          "output_type": "display_data"
        },
        {
          "data": {
            "image/png": "[encoded data removed]",
            "text/plain": [
              "<Figure size 640x480 with 1 Axes>"
            ]
          },
          "metadata": {},
          "output_type": "display_data"
        }
      ],
      "source": [
        "def run_monte_carlo_localization(env, robot_radius, robot_wheel_spacing, action, num_particles, dt, sigma_l, sigma_r, sigma_lidar, lidar_freq):\n",
        "\n",
        "    # environment will simulate wheel speed sensor and lidar sensor\n",
        "    env.unwrapped.sensor_models = {\n",
        "        \"wheel_speeds\": sensor_models.WheelSpeedSensor(\n",
        "            r=robot_radius, w=robot_wheel_spacing\n",
        "        ),\n",
        "        \"lidar\": sensor_models.Lidar2D(env.unwrapped.map),\n",
        "    }\n",
        "    env.unwrapped.dt = dt\n",
        "\n",
        "    # initialize the robot in a specific state to make experiments repeatable\n",
        "    # np.random.seed(0)\n",
        "    obs, _ = env.reset()\n",
        "    env.unwrapped.state = np.array([0.5, -3.5, np.pi])\n",
        "    # env.unwrapped.state = np.array([-3.2, 0.0, np.pi / 2])\n",
        "    env.unwrapped.action = action\n",
        "    obs = env.unwrapped._get_obs()  # pylint:disable=protected-access\n",
        "\n",
        "    localizer = MCL(\n",
        "        dt=dt,\n",
        "        num_particles=num_particles,\n",
        "        r=robot_radius,\n",
        "        w=robot_wheel_spacing,\n",
        "        sigma_l=sigma_l,\n",
        "        sigma_r=sigma_r,\n",
        "        sigma_lidar=sigma_lidar,\n",
        "        map=env.unwrapped.map,\n",
        "    )\n",
        "\n",
        "    # draw map and overlay intial particle positions\n",
        "    ax = env.unwrapped.map.draw_map(show=False)\n",
        "    ax.plot(\n",
        "        localizer.particles[:, 0, 2], localizer.particles[:, 1, 2], \".\"\n",
        "    )\n",
        "    ax.plot(env.unwrapped.state[0], env.unwrapped.state[1], \"x\")\n",
        "    plt.show()\n",
        "\n",
        "    localizer.update(obs[\"lidar\"])\n",
        "    for t in np.arange(start=0, stop=2.1, step=dt):\n",
        "        obs, _, _, _, _ = env.step(action)\n",
        "\n",
        "        # every dt seconds, propagate particles using wheel speeds\n",
        "        localizer.propagate(obs[\"wheel_speeds\"])\n",
        "\n",
        "        # every lidar_freq seconds, update particles using lidar reading\n",
        "        if (t % lidar_freq < 0.01 or t % lidar_freq > lidar_freq - 0.01) and t > 0:\n",
        "            localizer.update(obs[\"lidar\"])\n",
        "\n",
        "        # draw map and overlay intial particle positions\n",
        "        ax = env.unwrapped.map.draw_map(show=False)\n",
        "        ax.plot(\n",
        "            localizer.particles[:, 0, 2], localizer.particles[:, 1, 2], \".\"\n",
        "        )\n",
        "\n",
        "        # plot true state - just for visualization, shouldn't use this info in your estimator ;)\n",
        "        ax.plot(env.unwrapped.state[0], env.unwrapped.state[1], \"x\")\n",
        "        plt.show()\n",
        "\n",
        "env = gymnasium.make(\"gym_neu_racing/NEURacing-v0\")\n",
        "robot_radius = 0.25\n",
        "robot_wheel_spacing = 0.5\n",
        "action = np.array([1.0, -0.25])\n",
        "num_particles = 1000\n",
        "dt = 1.0\n",
        "sigma_l = 0.5\n",
        "sigma_r = 0.5\n",
        "sigma_lidar = 1.4\n",
        "lidar_freq = 1.0\n",
        "run_monte_carlo_localization(env, robot_radius, robot_wheel_spacing, action, num_particles, dt, sigma_l, sigma_r, sigma_lidar, lidar_freq)\n",
        "\n",
        "# Note: Once you're happy with the performance of your MCL, make sure to set the\n",
        "# default values in the MCL class definition, because the autograder will simply\n",
        "# run MCL(dt=dt, r=robot_radius, w=robot_wheel_spacing, map=env.unwrapped.map)\n",
        "# to instantiate your class. Any other parameters (e.g., sigma_l, sigma_lidar)\n",
        "# will take their default values according to your class definition, not the\n",
        "# ones listed near the bottom of this cell."
      ]
    },
    {
      "cell_type": "code",
      "execution_count": 6,
      "metadata": {
        "id": "7_47PTxZEkH1"
      },
      "outputs": [],
      "source": [
        "def log_odds_to_prob(log_odds: np.ndarray) -> np.ndarray:\n",
        "    return 1 - 1 / (1 + np.exp(log_odds))\n",
        "\n",
        "def prob_to_log_odds(prob: np.ndarray) -> np.ndarray:\n",
        "    return np.log(prob / (1 - prob))"
      ]
    },
    {
      "cell_type": "code",
      "execution_count": 379,
      "metadata": {
        "id": "n-rB678P-NQ6"
      },
      "outputs": [],
      "source": [
        "class Mapper:\n",
        "    def __init__(\n",
        "        self, p_free: float = 0.2, p_occ: float = 0.8, p_prior: float = 0.5\n",
        "    ):\n",
        "        self.map = Map(x_width=10, y_width=10, grid_cell_size=0.1)\n",
        "\n",
        "        # feel free to change the default values for p_free, p_occ, p_prior!\n",
        "        self.p_free = p_free\n",
        "        self.p_occ = p_occ\n",
        "        self.p_prior = p_prior\n",
        "        self.log_odds_free = prob_to_log_odds(p_free)\n",
        "        self.log_odds_occ = prob_to_log_odds(p_occ)\n",
        "        self.log_odds_prior = prob_to_log_odds(p_prior)\n",
        "\n",
        "        # initialize with P(occ) = 0.5 for all cells (unknown) -- feel free to change this!\n",
        "        self.map.log_odds_map = np.zeros(\n",
        "            self.map.static_map.shape, dtype=float\n",
        "        )\n",
        "\n",
        "    # If someone calls Mapper().probability_map, this method will run and convert\n",
        "    # the current `self.map.log_odds_map` to an array of probabilities per cell.\n",
        "    # You don't need to explicitly store `self.probability_map` and can just keep\n",
        "    # `self.log_odds_map` updated (\"properties\" are a useful Python concept).\n",
        "    @property\n",
        "    def probability_map(self):\n",
        "        return log_odds_to_prob(self.map.log_odds_map)\n",
        "\n",
        "    def step(self, obs):\n",
        "        \"\"\"Using current state & lidar, update esimated gridmap log-odds.\"\"\"\n",
        "        r_x,r_y,theta = obs[\"state\"]\n",
        "        step_x,step_y = 0,0\n",
        "        r_state = np.array([r_x,r_y])\n",
        "        robot_grid = self.map.world_coordinates_to_map_indices(r_state)\n",
        "        rg_x,rg_y = robot_grid[0].T\n",
        "        # print(\"robot grid\", rg_x)\n",
        "\n",
        "        lidar_angles = obs[\"lidar\"][\"angles\"]\n",
        "        hit_points = []\n",
        "        # print(\"states\",obs[\"state\"])\n",
        "        lidar_readings = obs[\"lidar\"][\"ranges\"]\n",
        "        # print(\"lidar readings\", lidar_angles)\n",
        "\n",
        "        for i, d in enumerate(lidar_readings):\n",
        "          if d <= 0 or d > 10:\n",
        "            continue\n",
        "\n",
        "          angle = theta + lidar_angles[i]\n",
        "          hit_x = r_x + d * np.cos(angle)\n",
        "          hit_y = r_y + d * np.sin(angle)\n",
        "          hit_points.append([hit_x, hit_y])\n",
        "\n",
        "        hit_points = np.array(hit_points)\n",
        "        map_indices = self.map.world_coordinates_to_map_indices(hit_points)\n",
        "        h_x, h_y = map_indices[0].T\n",
        "\n",
        "\n",
        "\n",
        "        for i in range(len(h_x)):\n",
        "\n",
        "           rr, cc = line(int(round(rg_x)), int(round(rg_y)), h_x[i], h_y[i])\n",
        "\n",
        "\n",
        "           for r, c in zip(rr[:-1], cc[:-1]):\n",
        "              if 0 <= r < self.map.log_odds_map.shape[0] and 0 <= c < self.map.log_odds_map.shape[1]:\n",
        "                  self.map.log_odds_map[r, c] += self.log_odds_free - self.log_odds_prior\n",
        "\n",
        "\n",
        "            # Update the hit point cell as occupied\n",
        "           if 0 <= h_x[i] < self.map.log_odds_map.shape[0] and 0 <= h_y[i] < self.map.log_odds_map.shape[1]:\n",
        "                self.map.log_odds_map[h_x[i], h_y[i]] += self.log_odds_occ - self.log_odds_prior\n",
        "\n",
        "\n",
        "        estimated_map = self.probability_map.copy()\n",
        "\n",
        "        return estimated_map"
      ]
    },
    {
      "cell_type": "code",
      "execution_count": 381,
      "metadata": {
        "colab": {
          "base_uri": "https://localhost:8080/",
          "height": 465
        },
        "id": "MZAcvJGvEa33",
        "outputId": "0b9702c3-e54d-443c-ab2b-39c58911d660"
      },
      "outputs": [
        {
          "name": "stdout",
          "output_type": "stream",
          "text": [
            "lap completed!\n",
            "clockwise -> fwd lap completed\n"
          ]
        },
        {
          "data": {
            "image/png": "[encoded data removed]",
            "text/plain": [
              "<Figure size 640x480 with 1 Axes>"
            ]
          },
          "metadata": {},
          "output_type": "display_data"
        }
      ],
      "source": [
        "env = gymnasium.make(\"gym_neu_racing/NEURacing-v0\")\n",
        "env = MappingWrapper(env)\n",
        "\n",
        "# Initialize the environment (and set random seed so any randomness is repeatable)\n",
        "np.random.seed(0)\n",
        "\n",
        "# Tell the environment to use your new Lidar2D sensor\n",
        "env.unwrapped.sensor_models = {\n",
        "    \"state\": sensor_models.StateFeedback(),\n",
        "    \"lidar\": sensor_models.Lidar2D(env.unwrapped.map),\n",
        "}\n",
        "\n",
        "# Reset the environment and get the first observation (state + lidar)\n",
        "obs, _ = env.reset()\n",
        "\n",
        "# initialize the robot in a particular state (feel free to start from different places when testing your algorithm)\n",
        "env.unwrapped.state = np.array([0.5, -3.5, np.pi])\n",
        "obs[\"state\"] = env.unwrapped.state\n",
        "obs[\"lidar\"] = env.unwrapped.sensor_models[\"lidar\"].step(obs[\"state\"], None)\n",
        "\n",
        "mapper = Mapper()\n",
        "\n",
        "states = []\n",
        "\n",
        "# run the simulator & mapper for num_timesteps to build a complete map of the environment\n",
        "num_timsteps = 30\n",
        "for _ in range(num_timsteps):\n",
        "    estimated_map = mapper.step(obs)\n",
        "    action = np.array([1.0, -0.25])\n",
        "    obs, _, _, _, _ = env.step(action)\n",
        "\n",
        "    # keep track of the current state, just for visualization later\n",
        "    states.append(obs[\"state\"])\n",
        "\n",
        "# draw your best guess of the environment map along with your robot's trajectory\n",
        "mapper.map.static_map = estimated_map.copy()\n",
        "mapper.map.draw_map(show=False)\n",
        "plt.plot([state[0] for state in states], [state[1] for state in states], \"x\")\n",
        "plt.show()"
      ]
    },
    {
      "cell_type": "code",
      "execution_count": 140,
      "metadata": {
        "id": "-PzlJQVs7dV7"
      },
      "outputs": [],
      "source": []
    }
  ],
  "metadata": {
    "colab": {
      "collapsed_sections": [
        "TKUvYLxpv2p4"
      ],
      "provenance": []
    },
    "kernelspec": {
      "display_name": "Python 3",
      "name": "python3"
    },
    "language_info": {
      "name": "python"
    }
  },
  "nbformat": 4,
  "nbformat_minor": 0
}
